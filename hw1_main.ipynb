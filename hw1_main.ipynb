{
 "cells": [
  {
   "cell_type": "markdown",
   "id": "indoor-charles",
   "metadata": {},
   "source": [
    "# Homework 1\n",
    "*Sean Steinle*\n",
    "\n",
    "### Contents\n",
    "- [Introduction](#introduction)\n",
    "- [Winsorized Mean](#winsorized-mean)\n",
    "- [Empirical Study](#empirical-study)"
   ]
  },
  {
   "cell_type": "markdown",
   "id": "rocky-builder",
   "metadata": {},
   "source": [
    "## Introduction\n",
    "\n",
    "\n",
    "- *how you would want me to address you (do you have preferred pronouns?) and if the proper pronunciation of your name?*\n",
    "    - You can address me as Sean or he/him/his pronouns! The pronunication is sh-on.\n",
    "- *your educational and professional background?*\n",
    "    - I graduated with my BS in Computer Science and BA in Linguistics from the Univerity of Pittsburgh in 2022. I started as a full-time Software Engineer with the MITRE Corporation in 2022. My first year I built software to support Reinforcement Learning research, but now I lead an Explainable AI research project and work on a Federated Learning project. I love building things and I love AI. I am drawn to Statistics because it can serve as a new perspective into concepts I'm already familiar with. Specifically I would like to learn more about Bayesian approaches and optimization!\n",
    "- *your experience with computing and specifically statistical computing?*\n",
    "    - Coding is my day job, though I'm always looking to learn more. I know a decent bit about High Performance Computing and relevant topics like parallelization, and I'm familiar with tools like Slurm and htop.\n",
    "- *your proficiency with R and any other programming language you know?*\n",
    "    - I have experience with Python, Julia, and R (in that order) but also some other languages like Java, C, PDDL, and Javascript. I would feel comfortable using R if necessary, but I prefer Python because it has OOP, lots of documentation, and lots of libraries.\n",
    "- *anything you would want me to know about yourself or your background?*\n",
    "    - My biggest area of weakness with respect to this class will likely be the statistical concepts themselves, which I am very excited to work on! I hope that I'm able to help others with computing concepts in exchange for help with statistics concepts."
   ]
  },
  {
   "cell_type": "markdown",
   "id": "recovered-meeting",
   "metadata": {},
   "source": [
    "## Winsorized Mean"
   ]
  },
  {
   "cell_type": "code",
   "execution_count": 10,
   "id": "overhead-strength",
   "metadata": {},
   "outputs": [],
   "source": [
    "def mean(values: int):\n",
    "    return sum(values)/len(values)"
   ]
  },
  {
   "cell_type": "code",
   "execution_count": 41,
   "id": "treated-physiology",
   "metadata": {},
   "outputs": [],
   "source": [
    "def winsorized_mean(values: list, threshold: int):\n",
    "    wvalues = [] #could directly modify values, but don't want to modify passed in data structure!\n",
    "    for value in values:\n",
    "        if abs(value) > threshold: #value is an outlier, replace with threshold!\n",
    "            if value >= 0: #value should be replaced by threshold with same sign\n",
    "                wvalues.append(threshold)\n",
    "            else:\n",
    "                wvalues.append(-threshold)\n",
    "        else: #value is not an outlier, add it!\n",
    "            wvalues.append(value)\n",
    "    wmean = mean(wvalues)\n",
    "    return wmean"
   ]
  },
  {
   "cell_type": "code",
   "execution_count": 64,
   "id": "coupled-spank",
   "metadata": {},
   "outputs": [
    {
     "data": {
      "text/plain": [
       "True"
      ]
     },
     "execution_count": 64,
     "metadata": {},
     "output_type": "execute_result"
    }
   ],
   "source": [
    "#Test Cases:\n",
    "\n",
    "#TC1 - no chopping should apply when threshold is greater than any element in the list! \n",
    "assert winsorized_mean([1,2,3,4,5,6,7,8,9,10], 11) == 5.5\n",
    "\n",
    "#TC2 - chopping occurs equally and therefore doesn't affect mean\n",
    "assert [winsorized_mean([-5,-4,-3,-2,-1,1,2,3,4,5], t) for t in [5,3,1]] == [0.0, 0.0, 0.0]\n",
    "\n",
    "#TC3 - chopping only occurs on one side\n",
    "assert [winsorized_mean([-7,-6,-5,-4,-3,-2,-1,1,2,3], t) for t in [5,3,1]] == [-1.9, -1.2, -0.4]\n",
    "\n",
    "#TC4 - the winsorized mean always tends approaches the threshold when the threshold is low relative to the set!\n",
    "#note: this would be a great way to test performance! my implementation is memory inefficient.\n",
    "for N in [10,100,1000,10000,100000,1000000]:\n",
    "    wm = winsorized_mean(range(0,N),1)\n",
    "    assert wm-1/N < wm < wm+1/N\n",
    "    \n",
    "#TC5 - the function doesn't modify data you pass in\n",
    "mydata = [1,2,3]\n",
    "winsorized_mean(mydata, 1)\n",
    "assert mydata == [1,2,3]"
   ]
  },
  {
   "cell_type": "markdown",
   "id": "cathedral-fishing",
   "metadata": {},
   "source": [
    "## Empirical Study"
   ]
  },
  {
   "cell_type": "code",
   "execution_count": null,
   "id": "magnetic-taylor",
   "metadata": {},
   "outputs": [],
   "source": []
  }
 ],
 "metadata": {
  "kernelspec": {
   "display_name": "Python 3",
   "language": "python",
   "name": "python3"
  },
  "language_info": {
   "codemirror_mode": {
    "name": "ipython",
    "version": 3
   },
   "file_extension": ".py",
   "mimetype": "text/x-python",
   "name": "python",
   "nbconvert_exporter": "python",
   "pygments_lexer": "ipython3",
   "version": "3.8.7"
  }
 },
 "nbformat": 4,
 "nbformat_minor": 5
}

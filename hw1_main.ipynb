{
 "cells": [
  {
   "cell_type": "markdown",
   "id": "continent-arrangement",
   "metadata": {},
   "source": [
    "# Homework 1\n",
    "*Sean Steinle*\n",
    "\n",
    "### Contents\n",
    "- [Introduction](#Introduction)\n",
    "- [Winsorized Mean](#Winsorized-Mean)\n",
    "- [Empirical Study](#Empirical-Study)"
   ]
  },
  {
   "cell_type": "markdown",
   "id": "lesser-third",
   "metadata": {},
   "source": [
    "## Introduction\n",
    "\n",
    "\n",
    "- *how you would want me to address you (do you have preferred pronouns?) and if the proper pronunciation of your name?*\n",
    "    - You can address me as Sean or he/him/his pronouns! The pronunication is sh-on.\n",
    "- *your educational and professional background?*\n",
    "    - I graduated with my BS in Computer Science and BA in Linguistics from the Univerity of Pittsburgh in 2022. I started as a full-time Software Engineer with the MITRE Corporation in 2022. My first year I built software to support Reinforcement Learning research, but now I lead an Explainable AI research project and work on a Federated Learning project. I love building things and I love AI. I am drawn to Statistics because it can serve as a new perspective into concepts I'm already familiar with. Specifically I would like to learn more about Bayesian approaches and optimization!\n",
    "- *your experience with computing and specifically statistical computing?*\n",
    "    - Coding is my day job, though I'm always looking to learn more. I know a decent bit about High Performance Computing and relevant topics like parallelization, and I'm familiar with tools like Slurm and htop.\n",
    "- *your proficiency with R and any other programming language you know?*\n",
    "    - I have experience with Python, Julia, and R (in that order) but also some other languages like Java, C, PDDL, and Javascript. I would feel comfortable using R if necessary, but I prefer Python because it has OOP, lots of documentation, and lots of libraries.\n",
    "- *anything you would want me to know about yourself or your background?*\n",
    "    - My biggest area of weakness with respect to this class will likely be the statistical concepts themselves, which I am very excited to work on! I hope that I'm able to help others with computing concepts in exchange for help with statistics concepts."
   ]
  },
  {
   "cell_type": "markdown",
   "id": "simple-equality",
   "metadata": {},
   "source": [
    "## Winsorized Mean"
   ]
  },
  {
   "cell_type": "code",
   "execution_count": 116,
   "id": "compatible-jesus",
   "metadata": {},
   "outputs": [],
   "source": [
    "def mean(values: list):\n",
    "    \n",
    "    return sum(values)/len(values)"
   ]
  },
  {
   "cell_type": "code",
   "execution_count": 1,
   "id": "ceramic-reducing",
   "metadata": {},
   "outputs": [],
   "source": [
    "def winsorized_mean(values: list, threshold: float):\n",
    "    \"\"\"Calculates the Winsorized mean for a set of values.\n",
    "    \n",
    "    values - The first argument is the list of numbers for which the Winsorized mean will be calculated\n",
    "    threshold - The second argument is the threshold above/below which values will be pruned\n",
    "    \"\"\"\n",
    "    wvalues = [] #could directly modify values, but don't want to modify passed in data structure\n",
    "    for value in values:\n",
    "        if abs(value) > threshold: #value is an outlier, replace with threshold\n",
    "            if value >= 0: #value should be replaced by threshold with same sign\n",
    "                wvalues.append(threshold)\n",
    "            else:\n",
    "                wvalues.append(-threshold)\n",
    "        else: #value is not an outlier, add it\n",
    "            wvalues.append(value)\n",
    "    wmean = mean(wvalues) #now take the classical mean of the transformed values\n",
    "    return wmean"
   ]
  },
  {
   "cell_type": "code",
   "execution_count": 118,
   "id": "hairy-material",
   "metadata": {},
   "outputs": [],
   "source": [
    "#Test Cases:\n",
    "\n",
    "#TC1 - no chopping should apply when threshold is greater than any element in the list! \n",
    "assert winsorized_mean([1,2,3,4,5,6,7,8,9,10], 11) == 5.5\n",
    "\n",
    "#TC2 - chopping occurs equally and therefore doesn't affect mean\n",
    "assert [winsorized_mean([-5,-4,-3,-2,-1,1,2,3,4,5], t) for t in [5,3,1]] == [0.0, 0.0, 0.0]\n",
    "\n",
    "#TC3 - chopping only occurs on one side\n",
    "assert [winsorized_mean([-7,-6,-5,-4,-3,-2,-1,1,2,3], t) for t in [5,3,1]] == [-1.9, -1.2, -0.4]\n",
    "\n",
    "#TC4 - the winsorized mean always tends approaches the threshold when the threshold is low relative to the set!\n",
    "#note: this would be a great way to test performance! my implementation is memory inefficient.\n",
    "for N in [10,100,1000,10000,100000,1000000]:\n",
    "    wm = winsorized_mean(range(0,N),1)\n",
    "    assert wm-1/N < wm < wm+1/N\n",
    "    \n",
    "#TC5 - the function doesn't modify data you pass in\n",
    "mydata = [1,2,3]\n",
    "winsorized_mean(mydata, 1)\n",
    "assert mydata == [1,2,3]"
   ]
  },
  {
   "cell_type": "markdown",
   "id": "faced-tenant",
   "metadata": {},
   "source": [
    "## Empirical Study"
   ]
  },
  {
   "cell_type": "code",
   "execution_count": 119,
   "id": "transparent-yellow",
   "metadata": {},
   "outputs": [],
   "source": [
    "#read in data, drop column name, cast data to floats\n",
    "path = \"data/homework_01-data.csv\"\n",
    "with open(path, newline='') as file:\n",
    "    lines = file.read().splitlines()[1:]\n",
    "values = [float(line) for line in lines]\n",
    "#see https://docs.python.org/3/library/csv.html for more details!"
   ]
  },
  {
   "cell_type": "code",
   "execution_count": 130,
   "id": "dirty-importance",
   "metadata": {},
   "outputs": [],
   "source": [
    "#create list of thresholds, calculate wmean for each threshold\n",
    "thresholds = [x/2 for x in range(1, 401)]\n",
    "wvalues = [winsorized_mean(values, threshold) for threshold in thresholds]"
   ]
  },
  {
   "cell_type": "code",
   "execution_count": 150,
   "id": "alive-postage",
   "metadata": {},
   "outputs": [
    {
     "data": {
      "image/png": "[encoded data removed]",
      "text/plain": [
       "<Figure size 432x288 with 1 Axes>"
      ]
     },
     "metadata": {
      "needs_background": "light"
     },
     "output_type": "display_data"
    }
   ],
   "source": [
    "#see https://stackoverflow.com/questions/12444716/how-do-i-set-the-figure-title-and-axes-labels-font-size for specific commands!\n",
    "import matplotlib.pyplot as plt\n",
    "fig = plt.figure()\n",
    "plt.plot(thresholds,wvalues)\n",
    "fig.suptitle(\"Winsorized Means at Various Thresholds\")\n",
    "plt.xlabel(\"Threshold\")\n",
    "plt.ylabel(\"Winsorized Mean\")\n",
    "plt.savefig(\"figures/wmean.png\")"
   ]
  },
  {
   "cell_type": "markdown",
   "id": "reliable-challenge",
   "metadata": {},
   "source": [
    "As the threshold for a winsorized mean function approaches 0, the winsorized mean result approaches 0. As the threshold for a winsorized mean approaches the maximum absolute value in the dataset, it converges to the true mean of the dataset.\n",
    "\n",
    "The plot flattens out around a threshold of 25, which suggests that there are only a few values greater than 25. We can confirm this with a histogram. \n",
    "\n",
    "Because the direction of the plot is almost monotonically negative, it seems like most values are negative--as more values are \"permitted into the mean calculation\", the winsorized mean drops! There is a small exception to the negative trend: around a threshold of 25, the mean increases. This tells us a value between 25-30 is in the dataset!"
   ]
  },
  {
   "cell_type": "code",
   "execution_count": 151,
   "id": "twelve-hierarchy",
   "metadata": {},
   "outputs": [
    {
     "data": {
      "image/png": "[encoded data removed]",
      "text/plain": [
       "<Figure size 432x288 with 1 Axes>"
      ]
     },
     "metadata": {
      "needs_background": "light"
     },
     "output_type": "display_data"
    }
   ],
   "source": [
    "fig = plt.figure()\n",
    "plt.hist(values)\n",
    "fig.suptitle(\"Value Counts in Data\")\n",
    "plt.xlabel(\"Value\")\n",
    "plt.ylabel(\"Count\")\n",
    "plt.savefig(\"figures/histogram.png\")"
   ]
  },
  {
   "cell_type": "markdown",
   "id": "nonprofit-integration",
   "metadata": {},
   "source": [
    "As expected, most values are within 25 of 0."
   ]
  }
 ],
 "metadata": {
  "kernelspec": {
   "display_name": "Python 3",
   "language": "python",
   "name": "python3"
  },
  "language_info": {
   "codemirror_mode": {
    "name": "ipython",
    "version": 3
   },
   "file_extension": ".py",
   "mimetype": "text/x-python",
   "name": "python",
   "nbconvert_exporter": "python",
   "pygments_lexer": "ipython3",
   "version": "3.8.7"
  }
 },
 "nbformat": 4,
 "nbformat_minor": 5
}
